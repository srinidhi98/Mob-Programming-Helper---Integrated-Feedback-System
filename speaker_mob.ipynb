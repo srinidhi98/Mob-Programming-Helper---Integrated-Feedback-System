import os
import pandas as pd
import librosa

# Provide the path to the folder containing audio files for different speakers
data_path = '/path/to/librispeech/dataset'

def get_audio_duration(audio_path):
    # Load audio file using librosa
    audio, _ = librosa.load(audio_path, sr=None)
    # Calculate the duration of the audio file in seconds
    duration = librosa.get_duration(y=audio, sr=_)  # _ is the sample rate
    return duration

def calculate_speaker_activity(data_path):
    speaker_activity = {}
    for speaker_folder in os.listdir(data_path):
        speaker_path = os.path.join(data_path, speaker_folder)
        if os.path.isdir(speaker_path):
            total_duration = 0
            for audio_file in os.listdir(speaker_path):
                audio_path = os.path.join(speaker_path, audio_file)
                if audio_path.endswith('.wav'):
                    duration = get_audio_duration(audio_path)
                    total_duration += duration
            speaker_activity[speaker_folder] = total_duration
    return speaker_activity

# Call the function to get the speaker activity
speaker_activity = calculate_speaker_activity(data_path)

# Convert the results to a pandas DataFrame for easy analysis
speaker_activity_df = pd.DataFrame(list(speaker_activity.items()), columns=['Speaker', 'Activity (seconds)'])

# Sort the speakers based on activity in descending order
speaker_activity_df = speaker_activity_df.sort_values(by='Activity (seconds)', ascending=False)

# Print the speaker with the highest activity
most_active_speaker = speaker_activity_df.iloc[0]['Speaker']
print("Most active speaker:", most_active_speaker)
print(speaker_activity_df)
